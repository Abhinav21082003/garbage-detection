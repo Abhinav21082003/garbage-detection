{
  "cells": [
    {
      "cell_type": "code",
      "execution_count": null,
      "id": "3760e5df-7036-429f-8763-777660b6a77b",
      "metadata": {
        "id": "3760e5df-7036-429f-8763-777660b6a77b"
      },
      "outputs": [],
      "source": [
        "import zipfile\n",
        "import os\n",
        "import pandas as pd\n",
        "from sklearn.model_selection import train_test_split\n",
        "from sklearn.metrics import confusion_matrix, classification_report\n",
        "import tensorflow as tf\n",
        "from tensorflow.keras.preprocessing.image import ImageDataGenerator\n",
        "from tensorflow.keras.models import Sequential\n",
        "from tensorflow.keras.layers import Dense,Dropout, Flatten, Conv2D, MaxPooling2D"
      ]
    },
    {
      "cell_type": "code",
      "execution_count": null,
      "id": "7dfe353a-5bcd-4753-8d2b-0cab7e3f74da",
      "metadata": {
        "id": "7dfe353a-5bcd-4753-8d2b-0cab7e3f74da"
      },
      "outputs": [],
      "source": [
        "# save_path = 'dataset.zip'\n",
        "\n",
        "# def unzip_file(zip_file, extract_dir):\n",
        "#     with zipfile.ZipFile(zip_file, 'r') as zip_ref:\n",
        "#         zip_ref.extractall(extract_dir)\n",
        "\n",
        "# extract_dir = 'extracted_data'\n",
        "# unzip_file(save_path, extract_dir)\n",
        "exec(\"__import__('zipfile').ZipFile(r'C:\\\\Users\\\\admin\\\\Downloads\\\\dataset.zip').extractall('extracted_data')\")\n"
      ]
    },
    {
      "cell_type": "code",
      "execution_count": null,
      "id": "5d5c1596-2ca7-4a40-98d5-9e2a7e6086dc",
      "metadata": {
        "id": "5d5c1596-2ca7-4a40-98d5-9e2a7e6086dc"
      },
      "outputs": [],
      "source": [
        "import os\n",
        "\n",
        "extract_dir = 'extracted_data'\n",
        "data_dir = os.path.join(extract_dir, 'garbage_classification')\n",
        "labels = os.listdir(data_dir)\n",
        "image_size = (150, 150)\n",
        "batch_size = 32\n",
        "num_classes = len(labels)\n",
        "\n"
      ]
    },
    {
      "cell_type": "code",
      "execution_count": null,
      "id": "ebf4396e-f5aa-4777-8169-d4a4a2300e2b",
      "metadata": {
        "id": "ebf4396e-f5aa-4777-8169-d4a4a2300e2b",
        "outputId": "f31a8002-4fe1-41ab-fd95-52b631ea2639"
      },
      "outputs": [
        {
          "name": "stdout",
          "output_type": "stream",
          "text": [
            "Found 15515 images belonging to 12 classes.\n"
          ]
        }
      ],
      "source": [
        "train_datagen = ImageDataGenerator(\n",
        "    rescale=1./255,\n",
        "    rotation_range=40,\n",
        "    width_shift_range=0.2,\n",
        "    height_shift_range=0.2,\n",
        "    shear_range=0.2,\n",
        "    zoom_range=0.2,\n",
        "    horizontal_flip=True,\n",
        "    fill_mode='nearest'\n",
        ")\n",
        "\n",
        "\n",
        "data_generator = train_datagen.flow_from_directory(\n",
        "    os.path.join(extract_dir, 'garbage_classification'),\n",
        "    target_size=image_size,\n",
        "    batch_size=batch_size,\n",
        "    class_mode='categorical',\n",
        "    shuffle=True\n",
        ")"
      ]
    },
    {
      "cell_type": "code",
      "execution_count": null,
      "id": "ddaf67e9-a5c0-4bfc-9ec1-4e14eef00edc",
      "metadata": {
        "id": "ddaf67e9-a5c0-4bfc-9ec1-4e14eef00edc"
      },
      "outputs": [],
      "source": [
        "# X, y = data_generator.next()\n",
        "# X_train, X_test, y_train, y_test = train_test_split(X, y, test_size=0.2, random_state=42)\n",
        "X, y = data_generator.next()\n",
        "X_train, X_test, y_train, y_test = train_test_split(X, y, test_size=0.2, random_state=42)\n"
      ]
    },
    {
      "cell_type": "code",
      "execution_count": null,
      "id": "814d3df5-f17f-4738-bbd5-b9edbbf8a30f",
      "metadata": {
        "id": "814d3df5-f17f-4738-bbd5-b9edbbf8a30f",
        "outputId": "450701b2-bde7-4364-ab3f-bf6851866fa7"
      },
      "outputs": [
        {
          "name": "stdout",
          "output_type": "stream",
          "text": [
            "Epoch 1/10\n",
            "1/1 [==============================] - 1s 1s/step - loss: 0.0764 - accuracy: 0.0400 - val_loss: 0.0760 - val_accuracy: 0.1429\n",
            "Epoch 2/10\n",
            "1/1 [==============================] - 0s 441ms/step - loss: 0.0761 - accuracy: 0.0400 - val_loss: 0.0752 - val_accuracy: 0.2857\n",
            "Epoch 3/10\n",
            "1/1 [==============================] - 0s 461ms/step - loss: 0.0751 - accuracy: 0.2400 - val_loss: 0.0738 - val_accuracy: 0.4286\n",
            "Epoch 4/10\n",
            "1/1 [==============================] - 0s 487ms/step - loss: 0.0734 - accuracy: 0.4000 - val_loss: 0.0737 - val_accuracy: 0.4286\n",
            "Epoch 5/10\n",
            "1/1 [==============================] - 0s 441ms/step - loss: 0.0734 - accuracy: 0.4000 - val_loss: 0.0737 - val_accuracy: 0.4286\n",
            "Epoch 6/10\n",
            "1/1 [==============================] - 0s 456ms/step - loss: 0.0734 - accuracy: 0.4000 - val_loss: 0.0737 - val_accuracy: 0.4286\n",
            "Epoch 7/10\n",
            "1/1 [==============================] - 0s 430ms/step - loss: 0.0733 - accuracy: 0.4000 - val_loss: 0.0737 - val_accuracy: 0.4286\n",
            "Epoch 8/10\n",
            "1/1 [==============================] - 0s 417ms/step - loss: 0.0733 - accuracy: 0.4000 - val_loss: 0.0737 - val_accuracy: 0.4286\n",
            "Epoch 9/10\n",
            "1/1 [==============================] - 0s 417ms/step - loss: 0.0733 - accuracy: 0.4000 - val_loss: 0.0736 - val_accuracy: 0.4286\n",
            "Epoch 10/10\n",
            "1/1 [==============================] - 0s 425ms/step - loss: 0.0733 - accuracy: 0.4000 - val_loss: 0.0736 - val_accuracy: 0.4286\n",
            "1/1 - 0s - loss: 0.0736 - accuracy: 0.4286 - 39ms/epoch - 39ms/step\n",
            "Test accuracy: 0.4285714328289032\n"
          ]
        }
      ],
      "source": [
        "import numpy as np\n",
        "model = Sequential()\n",
        "model.add(Conv2D(32, (3, 3), activation='relu', input_shape=(image_size[0], image_size[1], 3)))\n",
        "model.add(MaxPooling2D((2, 2)))\n",
        "model.add(Conv2D(64, (3, 3), activation='relu'))\n",
        "model.add(MaxPooling2D((2, 2)))\n",
        "model.add(Conv2D(128, (3, 3), activation='relu'))\n",
        "model.add(MaxPooling2D((2, 2)))\n",
        "model.add(Conv2D(128, (3, 3), activation='relu'))\n",
        "model.add(MaxPooling2D((2, 2)))\n",
        "model.add(Flatten())\n",
        "model.add(Dropout(0.5))\n",
        "model.add(Dense(512, activation='relu'))\n",
        "model.add(Dense(num_classes, activation='softmax'))\n",
        "model.add(Dense(num_classes, activation='softmax'))\n",
        "\n",
        "model.compile(optimizer='adam',loss='mean_squared_error', metrics=['accuracy'])\n",
        "model.fit(X_train, y_train, epochs=10, validation_data=(X_test, y_test))\n",
        "test_loss, test_acc = model.evaluate(X_test, y_test, verbose=2)\n",
        "print('Test accuracy:', test_acc)\n",
        "# y_pred = model.predict(X_test)\n",
        "\n",
        "# # Generating confusion matrix and classification report\n",
        "# y_pred_classes = np.argmax(y_pred, axis=1)\n",
        "# confusion_mtx = confusion_matrix(np.argmax(y_test, axis=1), y_pred_classes)\n",
        "# print(\"Confusion Matrix:\\n\", confusion_mtx)\n",
        "# print(\"\\nClassification Report:\\n\", classification_report(np.argmax(y_test, axis=1), y_pred_classes))"
      ]
    },
    {
      "cell_type": "code",
      "execution_count": null,
      "id": "33886a1a-65dc-4ac6-a100-666a62f37fce",
      "metadata": {
        "id": "33886a1a-65dc-4ac6-a100-666a62f37fce",
        "outputId": "d96f1f38-14e8-47fc-e245-715fdae53db9"
      },
      "outputs": [
        {
          "name": "stdout",
          "output_type": "stream",
          "text": [
            "WARNING:tensorflow:5 out of the last 5 calls to <function Model.make_predict_function.<locals>.predict_function at 0x000001EC9EBA9760> triggered tf.function retracing. Tracing is expensive and the excessive number of tracings could be due to (1) creating @tf.function repeatedly in a loop, (2) passing tensors with different shapes, (3) passing Python objects instead of tensors. For (1), please define your @tf.function outside of the loop. For (2), @tf.function has reduce_retracing=True option that can avoid unnecessary retracing. For (3), please refer to https://www.tensorflow.org/guide/function#controlling_retracing and https://www.tensorflow.org/api_docs/python/tf/function for  more details.\n",
            "1/1 [==============================] - 0s 85ms/step\n",
            "Confusion Matrix:\n",
            " [[0 1 0 0 0]\n",
            " [0 3 0 0 0]\n",
            " [0 1 0 0 0]\n",
            " [0 1 0 0 0]\n",
            " [0 1 0 0 0]]\n",
            "\n",
            "Classification Report:\n",
            "               precision    recall  f1-score   support\n",
            "\n",
            "           1       0.00      0.00      0.00         1\n",
            "           4       0.43      1.00      0.60         3\n",
            "           8       0.00      0.00      0.00         1\n",
            "          10       0.00      0.00      0.00         1\n",
            "          11       0.00      0.00      0.00         1\n",
            "\n",
            "    accuracy                           0.43         7\n",
            "   macro avg       0.09      0.20      0.12         7\n",
            "weighted avg       0.18      0.43      0.26         7\n",
            "\n"
          ]
        },
        {
          "name": "stderr",
          "output_type": "stream",
          "text": [
            "C:\\Users\\admin\\AppData\\Roaming\\Python\\Python311\\site-packages\\sklearn\\metrics\\_classification.py:1509: UndefinedMetricWarning: Precision is ill-defined and being set to 0.0 in labels with no predicted samples. Use `zero_division` parameter to control this behavior.\n",
            "  _warn_prf(average, modifier, f\"{metric.capitalize()} is\", len(result))\n",
            "C:\\Users\\admin\\AppData\\Roaming\\Python\\Python311\\site-packages\\sklearn\\metrics\\_classification.py:1509: UndefinedMetricWarning: Precision is ill-defined and being set to 0.0 in labels with no predicted samples. Use `zero_division` parameter to control this behavior.\n",
            "  _warn_prf(average, modifier, f\"{metric.capitalize()} is\", len(result))\n",
            "C:\\Users\\admin\\AppData\\Roaming\\Python\\Python311\\site-packages\\sklearn\\metrics\\_classification.py:1509: UndefinedMetricWarning: Precision is ill-defined and being set to 0.0 in labels with no predicted samples. Use `zero_division` parameter to control this behavior.\n",
            "  _warn_prf(average, modifier, f\"{metric.capitalize()} is\", len(result))\n"
          ]
        }
      ],
      "source": [
        "from sklearn.metrics import confusion_matrix, classification_report\n",
        "y_pred = model.predict(X_test)\n",
        "# Generating confusion matrix and classification report\n",
        "y_pred_classes = np.argmax(y_pred, axis=1)\n",
        "confusion_mtx = confusion_matrix(np.argmax(y_test, axis=1), y_pred_classes)\n",
        "print(\"Confusion Matrix:\\n\", confusion_mtx)\n",
        "print(\"\\nClassification Report:\\n\", classification_report(np.argmax(y_test, axis=1), y_pred_classes))"
      ]
    },
    {
      "cell_type": "code",
      "execution_count": null,
      "id": "6c3f1142-cac4-48ed-afbf-d722586a53d1",
      "metadata": {
        "id": "6c3f1142-cac4-48ed-afbf-d722586a53d1",
        "outputId": "51b2d369-de4f-4aab-a88f-bce13c0dfa52"
      },
      "outputs": [
        {
          "name": "stdout",
          "output_type": "stream",
          "text": [
            "1/1 [==============================] - 0s 39ms/step\n"
          ]
        },
        {
          "data": {
            "image/png": "[encoded data removed]",
            "text/plain": [
              "<Figure size 640x480 with 2 Axes>"
            ]
          },
          "metadata": {},
          "output_type": "display_data"
        }
      ],
      "source": [
        "from sklearn.metrics import confusion_matrix\n",
        "import matplotlib.pyplot as plt\n",
        "import seaborn as sns\n",
        "import numpy as np\n",
        "y_pred = np.argmax(model.predict(X_test), axis=1)\n",
        "cm = confusion_matrix(np.argmax(y_test, axis=1), y_pred)\n",
        "# plt.figure(figsize=(8, 6))\n",
        "sns.heatmap(cm, annot=True)\n",
        "plt.xlabel('Predicted labels')\n",
        "plt.ylabel('True labels')\n",
        "plt.title('Confusion Matrix')\n",
        "plt.show()"
      ]
    },
    {
      "cell_type": "code",
      "execution_count": null,
      "id": "84d5d76f-6db3-473b-926e-bce0577db822",
      "metadata": {
        "id": "84d5d76f-6db3-473b-926e-bce0577db822"
      },
      "outputs": [],
      "source": []
    }
  ],
  "metadata": {
    "kernelspec": {
      "display_name": "Python 3 (ipykernel)",
      "language": "python",
      "name": "python3"
    },
    "language_info": {
      "codemirror_mode": {
        "name": "ipython",
        "version": 3
      },
      "file_extension": ".py",
      "mimetype": "text/x-python",
      "name": "python",
      "nbconvert_exporter": "python",
      "pygments_lexer": "ipython3",
      "version": "3.11.5"
    },
    "colab": {
      "provenance": []
    }
  },
  "nbformat": 4,
  "nbformat_minor": 5
}